{
  "nbformat": 4,
  "nbformat_minor": 0,
  "metadata": {
    "colab": {
      "provenance": [],
      "authorship_tag": "ABX9TyNb3LES/1NpwGsjGrBDlnvs",
      "include_colab_link": true
    },
    "kernelspec": {
      "name": "python3",
      "display_name": "Python 3"
    },
    "language_info": {
      "name": "python"
    }
  },
  "cells": [
    {
      "cell_type": "markdown",
      "metadata": {
        "id": "view-in-github",
        "colab_type": "text"
      },
      "source": [
        "<a href=\"https://colab.research.google.com/github/Welle-Kim/Coding-test_inflearn/blob/master/%EB%A6%AC%EC%8A%A4%ED%8A%B8%EC%99%80_%EB%82%B4%EC%9E%A5%ED%95%A8%EC%88%98(2).ipynb\" target=\"_parent\"><img src=\"https://colab.research.google.com/assets/colab-badge.svg\" alt=\"Open In Colab\"/></a>"
      ]
    },
    {
      "cell_type": "code",
      "execution_count": 1,
      "metadata": {
        "id": "uZ1lyzePBk-F"
      },
      "outputs": [],
      "source": [
        "a=[23,12,36,53,19]"
      ]
    },
    {
      "cell_type": "code",
      "source": [
        "print(a[:3])"
      ],
      "metadata": {
        "colab": {
          "base_uri": "https://localhost:8080/"
        },
        "id": "2_elunPNDYuv",
        "outputId": "996ec430-4db9-476d-f5d9-81cc24005dec"
      },
      "execution_count": 2,
      "outputs": [
        {
          "output_type": "stream",
          "name": "stdout",
          "text": [
            "[23, 12, 36]\n"
          ]
        }
      ]
    },
    {
      "cell_type": "code",
      "source": [
        "print(a[1:3])"
      ],
      "metadata": {
        "colab": {
          "base_uri": "https://localhost:8080/"
        },
        "id": "r409RIX5Dlke",
        "outputId": "4b439241-3f8e-499b-d22f-5c0d0db2e664"
      },
      "execution_count": 3,
      "outputs": [
        {
          "output_type": "stream",
          "name": "stdout",
          "text": [
            "[12, 36]\n"
          ]
        }
      ]
    },
    {
      "cell_type": "code",
      "source": [
        "print(len(a))"
      ],
      "metadata": {
        "colab": {
          "base_uri": "https://localhost:8080/"
        },
        "id": "kxEiF3TAD3zH",
        "outputId": "3a779e57-1c13-4de8-eb2d-82d223987b75"
      },
      "execution_count": 4,
      "outputs": [
        {
          "output_type": "stream",
          "name": "stdout",
          "text": [
            "5\n"
          ]
        }
      ]
    },
    {
      "cell_type": "code",
      "source": [
        "for i in range(len(a)):\n",
        "  print(a[i], end= \" \")\n",
        "print()"
      ],
      "metadata": {
        "colab": {
          "base_uri": "https://localhost:8080/"
        },
        "id": "NP33tKLFD7_G",
        "outputId": "4c87e66e-3e8e-4660-d721-9e3686795630"
      },
      "execution_count": 5,
      "outputs": [
        {
          "output_type": "stream",
          "name": "stdout",
          "text": [
            "23 12 36 53 19 \n"
          ]
        }
      ]
    },
    {
      "cell_type": "code",
      "source": [
        "for i in range(len(a)):\n",
        "  print(a[i], end= \" \")\n",
        "print()"
      ],
      "metadata": {
        "colab": {
          "base_uri": "https://localhost:8080/"
        },
        "id": "68jcipU8F4jc",
        "outputId": "fe411fdc-8d2a-41fd-dc7a-8a67ec3d7919"
      },
      "execution_count": 6,
      "outputs": [
        {
          "output_type": "stream",
          "name": "stdout",
          "text": [
            "23 12 36 53 19 \n"
          ]
        }
      ]
    },
    {
      "cell_type": "code",
      "source": [
        "for x in a:\n",
        "  if x%2==1:\n",
        "    print(x, end=\" \")\n",
        "print()"
      ],
      "metadata": {
        "id": "ejkpochvF_bi",
        "colab": {
          "base_uri": "https://localhost:8080/"
        },
        "outputId": "a124f169-5c74-42f3-aa7f-cb2197e95920"
      },
      "execution_count": 7,
      "outputs": [
        {
          "output_type": "stream",
          "name": "stdout",
          "text": [
            "23 53 19 \n"
          ]
        }
      ]
    },
    {
      "cell_type": "code",
      "source": [
        "for x in enumerate(a):\n",
        "  print(x)"
      ],
      "metadata": {
        "colab": {
          "base_uri": "https://localhost:8080/"
        },
        "id": "0G_BVIqVMNJI",
        "outputId": "b10016be-0903-4526-b836-d9500c613443"
      },
      "execution_count": 8,
      "outputs": [
        {
          "output_type": "stream",
          "name": "stdout",
          "text": [
            "(0, 23)\n",
            "(1, 12)\n",
            "(2, 36)\n",
            "(3, 53)\n",
            "(4, 19)\n"
          ]
        }
      ]
    },
    {
      "cell_type": "code",
      "source": [
        "b=[1,2,3,4,5]\n",
        "print(b[0])"
      ],
      "metadata": {
        "colab": {
          "base_uri": "https://localhost:8080/"
        },
        "id": "JnDHeA3nM9E3",
        "outputId": "de84caef-b39f-4c34-86c0-b8053a77d112"
      },
      "execution_count": 11,
      "outputs": [
        {
          "output_type": "stream",
          "name": "stdout",
          "text": [
            "1\n"
          ]
        }
      ]
    },
    {
      "cell_type": "code",
      "source": [
        "#b[0]=7 # 튜플이었으면 안바뀌었음\n",
        "print(b[0])"
      ],
      "metadata": {
        "colab": {
          "base_uri": "https://localhost:8080/"
        },
        "id": "hJwnVI1NOA-9",
        "outputId": "1533b13d-14d1-4684-b12b-8ee23b535e72"
      },
      "execution_count": 12,
      "outputs": [
        {
          "output_type": "stream",
          "name": "stdout",
          "text": [
            "7\n"
          ]
        }
      ]
    },
    {
      "cell_type": "code",
      "source": [
        "print(a)"
      ],
      "metadata": {
        "colab": {
          "base_uri": "https://localhost:8080/"
        },
        "id": "IZlEnUqCO44k",
        "outputId": "f2514cfd-3e0e-449e-b2e3-202e4b87684c"
      },
      "execution_count": 14,
      "outputs": [
        {
          "output_type": "stream",
          "name": "stdout",
          "text": [
            "[23, 12, 36, 53, 19]\n"
          ]
        }
      ]
    },
    {
      "cell_type": "code",
      "source": [
        "for x in enumerate(a):\n",
        "  print(x[0],x[1])\n",
        "print()"
      ],
      "metadata": {
        "colab": {
          "base_uri": "https://localhost:8080/"
        },
        "id": "XgyRZNGXOUyE",
        "outputId": "17638791-3ead-45e7-d995-ba73d07fafb9"
      },
      "execution_count": 18,
      "outputs": [
        {
          "output_type": "stream",
          "name": "stdout",
          "text": [
            "0 23\n",
            "1 12\n",
            "2 36\n",
            "3 53\n",
            "4 19\n",
            "\n"
          ]
        }
      ]
    },
    {
      "cell_type": "code",
      "source": [
        "for index, value in enumerate(a):\n",
        "  print(index, value)\n",
        "#print()"
      ],
      "metadata": {
        "colab": {
          "base_uri": "https://localhost:8080/"
        },
        "id": "uS1vrdnpO-4Y",
        "outputId": "a15bb3f3-bcfd-4402-d897-379e3996350c"
      },
      "execution_count": 20,
      "outputs": [
        {
          "output_type": "stream",
          "name": "stdout",
          "text": [
            "0 23\n",
            "1 12\n",
            "2 36\n",
            "3 53\n",
            "4 19\n"
          ]
        }
      ]
    },
    {
      "cell_type": "code",
      "source": [
        "if all(60>x for x in a):\n",
        "  print(\"YES\")\n",
        "else:\n",
        "  print(\"NO\")"
      ],
      "metadata": {
        "colab": {
          "base_uri": "https://localhost:8080/"
        },
        "id": "JvzBmRppSWGc",
        "outputId": "933bbc7c-270e-4cfd-9fb5-2ece4b9cd4dc"
      },
      "execution_count": 22,
      "outputs": [
        {
          "output_type": "stream",
          "name": "stdout",
          "text": [
            "YES\n"
          ]
        }
      ]
    },
    {
      "cell_type": "code",
      "source": [
        "if all(50>x for x in a): #하나라도 거짓된거 있으면\n",
        "  print(\"YES\")\n",
        "else:\n",
        "  print(\"NO\")"
      ],
      "metadata": {
        "colab": {
          "base_uri": "https://localhost:8080/"
        },
        "id": "pkjClrsqSfrz",
        "outputId": "d6dadc79-d7a7-43b9-9f75-302ee8430bbb"
      },
      "execution_count": 24,
      "outputs": [
        {
          "output_type": "stream",
          "name": "stdout",
          "text": [
            "NO\n"
          ]
        }
      ]
    },
    {
      "cell_type": "code",
      "source": [
        "if any(15>x for x in a): #하나라도\n",
        "  print(\"YES\")\n",
        "else:\n",
        "  print(\"NO\")"
      ],
      "metadata": {
        "colab": {
          "base_uri": "https://localhost:8080/"
        },
        "id": "cI4uGlEBS04z",
        "outputId": "3c8ba5a2-cabf-49a5-b5d0-9329696482bc"
      },
      "execution_count": 26,
      "outputs": [
        {
          "output_type": "stream",
          "name": "stdout",
          "text": [
            "YES\n"
          ]
        }
      ]
    },
    {
      "cell_type": "code",
      "source": [
        "if any(11>x for x in a): #하나라도\n",
        "  print(\"YES\")\n",
        "else:\n",
        "  print(\"NO\")"
      ],
      "metadata": {
        "colab": {
          "base_uri": "https://localhost:8080/"
        },
        "id": "IeFpi8TtS_GF",
        "outputId": "14f18f14-9882-4948-fae0-8393472baeb2"
      },
      "execution_count": 27,
      "outputs": [
        {
          "output_type": "stream",
          "name": "stdout",
          "text": [
            "NO\n"
          ]
        }
      ]
    }
  ]
}