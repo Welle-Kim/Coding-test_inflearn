{
  "nbformat": 4,
  "nbformat_minor": 0,
  "metadata": {
    "colab": {
      "provenance": [],
      "authorship_tag": "ABX9TyPBLo1vTR6AwNSIqBG3RT/D",
      "include_colab_link": true
    },
    "kernelspec": {
      "name": "python3",
      "display_name": "Python 3"
    },
    "language_info": {
      "name": "python"
    }
  },
  "cells": [
    {
      "cell_type": "markdown",
      "metadata": {
        "id": "view-in-github",
        "colab_type": "text"
      },
      "source": [
        "<a href=\"https://colab.research.google.com/github/Welle-Kim/Coding-test_inflearn/blob/master/%EB%AC%B8%EC%9E%90%EC%97%B4%EA%B3%BC_%EB%82%B4%EC%9E%A5%ED%95%A8%EC%88%98.ipynb\" target=\"_parent\"><img src=\"https://colab.research.google.com/assets/colab-badge.svg\" alt=\"Open In Colab\"/></a>"
      ]
    },
    {
      "cell_type": "code",
      "execution_count": 1,
      "metadata": {
        "colab": {
          "base_uri": "https://localhost:8080/"
        },
        "id": "Nmcfi_IAi7NJ",
        "outputId": "aa4654cb-b718-42e8-ee8f-c2d17cb29dbe"
      },
      "outputs": [
        {
          "output_type": "stream",
          "name": "stdout",
          "text": [
            "IT IS TIME\n"
          ]
        }
      ],
      "source": [
        "###문자열과 내장함수\n",
        "msg=\"It is Time\"\n",
        "print(msg.upper())"
      ]
    },
    {
      "cell_type": "code",
      "source": [
        "print(msg)"
      ],
      "metadata": {
        "colab": {
          "base_uri": "https://localhost:8080/"
        },
        "id": "FChH4Zjdjjcu",
        "outputId": "5ba762a8-4c44-48f3-95a0-902d955c1be8"
      },
      "execution_count": 2,
      "outputs": [
        {
          "output_type": "stream",
          "name": "stdout",
          "text": [
            "It is Time\n"
          ]
        }
      ]
    },
    {
      "cell_type": "code",
      "source": [
        "print(msg.lower())"
      ],
      "metadata": {
        "colab": {
          "base_uri": "https://localhost:8080/"
        },
        "id": "pV9WIYPYkpYm",
        "outputId": "16bebb44-0092-4017-8877-588f750d2bbf"
      },
      "execution_count": 3,
      "outputs": [
        {
          "output_type": "stream",
          "name": "stdout",
          "text": [
            "it is time\n"
          ]
        }
      ]
    },
    {
      "cell_type": "code",
      "source": [
        "tmp=msg.upper()\n",
        "print(tmp)"
      ],
      "metadata": {
        "colab": {
          "base_uri": "https://localhost:8080/"
        },
        "id": "IGUDaoaGk3Rm",
        "outputId": "deb3168a-d43b-4576-f896-a57cb28dfb16"
      },
      "execution_count": 4,
      "outputs": [
        {
          "output_type": "stream",
          "name": "stdout",
          "text": [
            "IT IS TIME\n"
          ]
        }
      ]
    },
    {
      "cell_type": "code",
      "source": [
        "print(tmp.find(\"T\"))"
      ],
      "metadata": {
        "colab": {
          "base_uri": "https://localhost:8080/"
        },
        "id": "uQLAiuQclF_n",
        "outputId": "8dd429fe-911d-425f-f7b8-9ffd9d15c07b"
      },
      "execution_count": 6,
      "outputs": [
        {
          "output_type": "stream",
          "name": "stdout",
          "text": [
            "1\n"
          ]
        }
      ]
    },
    {
      "cell_type": "code",
      "source": [
        "print(tmp.count(\"T\"))"
      ],
      "metadata": {
        "colab": {
          "base_uri": "https://localhost:8080/"
        },
        "id": "IeY6H01JlLgi",
        "outputId": "18b6231b-8683-4881-97da-fa27aa946e14"
      },
      "execution_count": 7,
      "outputs": [
        {
          "output_type": "stream",
          "name": "stdout",
          "text": [
            "2\n"
          ]
        }
      ]
    },
    {
      "cell_type": "code",
      "source": [
        "print(msg)"
      ],
      "metadata": {
        "colab": {
          "base_uri": "https://localhost:8080/"
        },
        "id": "1r5OkszMlrnS",
        "outputId": "03a118bf-05f9-4935-9b74-8f3f792b4c5e"
      },
      "execution_count": 8,
      "outputs": [
        {
          "output_type": "stream",
          "name": "stdout",
          "text": [
            "It is Time\n"
          ]
        }
      ]
    },
    {
      "cell_type": "code",
      "source": [
        "print(msg[:2])\n",
        "print(msg[3:5])"
      ],
      "metadata": {
        "colab": {
          "base_uri": "https://localhost:8080/"
        },
        "id": "PX-ITatIyRVq",
        "outputId": "719c888f-beab-44ea-d978-f7e7abd5af84"
      },
      "execution_count": 10,
      "outputs": [
        {
          "output_type": "stream",
          "name": "stdout",
          "text": [
            "It\n",
            "is\n"
          ]
        }
      ]
    },
    {
      "cell_type": "code",
      "source": [
        "print(len(msg))"
      ],
      "metadata": {
        "colab": {
          "base_uri": "https://localhost:8080/"
        },
        "id": "tGgt_3aFzMbh",
        "outputId": "c709ffad-8c6d-4d3b-8a2b-996b2a100495"
      },
      "execution_count": 11,
      "outputs": [
        {
          "output_type": "stream",
          "name": "stdout",
          "text": [
            "10\n"
          ]
        }
      ]
    },
    {
      "cell_type": "code",
      "source": [
        "for i in range(len(msg)):\n",
        "  print(msg[i],end=\" \")"
      ],
      "metadata": {
        "colab": {
          "base_uri": "https://localhost:8080/"
        },
        "id": "65U-8OYH3goR",
        "outputId": "e1b3c0e5-6b4b-43d6-af26-2889322cea15"
      },
      "execution_count": 12,
      "outputs": [
        {
          "output_type": "stream",
          "name": "stdout",
          "text": [
            "I t   i s   T i m e "
          ]
        }
      ]
    },
    {
      "cell_type": "code",
      "source": [
        "for x in msg:\n",
        "  print(x,end=\" \")\n",
        "print()"
      ],
      "metadata": {
        "colab": {
          "base_uri": "https://localhost:8080/"
        },
        "id": "AkoBUPWX3n-B",
        "outputId": "8ed391c8-723e-432e-b36c-353491ded6ed"
      },
      "execution_count": 15,
      "outputs": [
        {
          "output_type": "stream",
          "name": "stdout",
          "text": [
            "I t   i s   T i m e \n"
          ]
        }
      ]
    },
    {
      "cell_type": "code",
      "source": [
        "for x in msg:\n",
        "  if x.isupper():\n",
        "    print(x, end=\" \")\n",
        "print()"
      ],
      "metadata": {
        "colab": {
          "base_uri": "https://localhost:8080/"
        },
        "id": "TNUrLFqU38vb",
        "outputId": "34b7190a-dcee-4e3b-8ee3-47248060c0a5"
      },
      "execution_count": 17,
      "outputs": [
        {
          "output_type": "stream",
          "name": "stdout",
          "text": [
            "I T \n"
          ]
        }
      ]
    },
    {
      "cell_type": "code",
      "source": [
        "for x in msg:\n",
        "  if x.islower():\n",
        "    print(x, end=\" \")\n",
        "print()"
      ],
      "metadata": {
        "colab": {
          "base_uri": "https://localhost:8080/"
        },
        "id": "A6ccDx-w4Vm8",
        "outputId": "7cb879e7-9efd-46f3-e715-d713c0418636"
      },
      "execution_count": 20,
      "outputs": [
        {
          "output_type": "stream",
          "name": "stdout",
          "text": [
            "t i s i m e \n"
          ]
        }
      ]
    },
    {
      "cell_type": "code",
      "source": [
        "for x in msg:\n",
        "  if x.isalpha():\n",
        "    print(x, end=\" \")\n",
        "print()"
      ],
      "metadata": {
        "colab": {
          "base_uri": "https://localhost:8080/"
        },
        "id": "UmfJn5Lt4wST",
        "outputId": "99b24bc6-c9cd-47d6-88c7-1da9d6d1024f"
      },
      "execution_count": 22,
      "outputs": [
        {
          "output_type": "stream",
          "name": "stdout",
          "text": [
            "I t i s T i m e \n"
          ]
        }
      ]
    },
    {
      "cell_type": "code",
      "source": [
        "tmp=\"AZ\"\n",
        "for x in tmp:\n",
        "  print(ord(x))"
      ],
      "metadata": {
        "colab": {
          "base_uri": "https://localhost:8080/"
        },
        "id": "1Ntk9PZK5Un1",
        "outputId": "dd1f6272-15b8-4dc7-aa0d-26b57a5106f5"
      },
      "execution_count": 23,
      "outputs": [
        {
          "output_type": "stream",
          "name": "stdout",
          "text": [
            "65\n",
            "90\n"
          ]
        }
      ]
    },
    {
      "cell_type": "code",
      "source": [
        "tmp=\"az\"\n",
        "for x in tmp:\n",
        "  print(ord(x))"
      ],
      "metadata": {
        "colab": {
          "base_uri": "https://localhost:8080/"
        },
        "id": "sgSWwRsE9EXS",
        "outputId": "d424ba80-43de-4c8b-a914-26c12304dbc3"
      },
      "execution_count": 24,
      "outputs": [
        {
          "output_type": "stream",
          "name": "stdout",
          "text": [
            "97\n",
            "122\n"
          ]
        }
      ]
    },
    {
      "cell_type": "code",
      "source": [
        "tmp=65\n",
        "print(chr(tmp))"
      ],
      "metadata": {
        "colab": {
          "base_uri": "https://localhost:8080/"
        },
        "id": "Rf5MigOk9Qyq",
        "outputId": "d37c383a-d035-4987-b4cc-52eaf3b77ccb"
      },
      "execution_count": 25,
      "outputs": [
        {
          "output_type": "stream",
          "name": "stdout",
          "text": [
            "A\n"
          ]
        }
      ]
    },
    {
      "cell_type": "code",
      "source": [
        "tmp=66\n",
        "print(chr(tmp))"
      ],
      "metadata": {
        "colab": {
          "base_uri": "https://localhost:8080/"
        },
        "id": "TXdjnVZB9a-x",
        "outputId": "418a0e3f-db1a-4b76-ae13-1e3e76ff99b2"
      },
      "execution_count": 26,
      "outputs": [
        {
          "output_type": "stream",
          "name": "stdout",
          "text": [
            "B\n"
          ]
        }
      ]
    },
    {
      "cell_type": "code",
      "source": [],
      "metadata": {
        "id": "dIAkG2xO9kLZ"
      },
      "execution_count": null,
      "outputs": []
    }
  ]
}