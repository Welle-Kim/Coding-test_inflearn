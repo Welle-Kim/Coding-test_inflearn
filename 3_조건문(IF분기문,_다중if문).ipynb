{
  "nbformat": 4,
  "nbformat_minor": 0,
  "metadata": {
    "colab": {
      "provenance": [],
      "authorship_tag": "ABX9TyNdGdJ8xT8k9yHjsxSGhcGk",
      "include_colab_link": true
    },
    "kernelspec": {
      "name": "python3",
      "display_name": "Python 3"
    },
    "language_info": {
      "name": "python"
    }
  },
  "cells": [
    {
      "cell_type": "markdown",
      "metadata": {
        "id": "view-in-github",
        "colab_type": "text"
      },
      "source": [
        "<a href=\"https://colab.research.google.com/github/Welle-Kim/Coding-test_inflearn/blob/master/3_%EC%A1%B0%EA%B1%B4%EB%AC%B8(IF%EB%B6%84%EA%B8%B0%EB%AC%B8%2C_%EB%8B%A4%EC%A4%91if%EB%AC%B8).ipynb\" target=\"_parent\"><img src=\"https://colab.research.google.com/assets/colab-badge.svg\" alt=\"Open In Colab\"/></a>"
      ]
    },
    {
      "cell_type": "code",
      "source": [
        "x=7\n",
        "if x==7:\n",
        "  print(\"Lucky\")\n",
        "  print(\"ㅋㅋ\")\n",
        ""
      ],
      "metadata": {
        "colab": {
          "base_uri": "https://localhost:8080/"
        },
        "id": "tfS4rpxr6toQ",
        "outputId": "85211a30-6d63-4292-ce90-6c6f40de5ecc"
      },
      "execution_count": 4,
      "outputs": [
        {
          "output_type": "stream",
          "name": "stdout",
          "text": [
            "Lucky\n",
            "ㅋㅋ\n"
          ]
        }
      ]
    },
    {
      "cell_type": "code",
      "source": [
        "x=7\n",
        "if x!=7:\n",
        "  print(\"Lucky\")\n",
        "  print(\"ㅋㅋ\")\n",
        ""
      ],
      "metadata": {
        "id": "Lta9oEFe7PIk"
      },
      "execution_count": 5,
      "outputs": []
    },
    {
      "cell_type": "code",
      "source": [
        "x=9\n",
        "if x>=10:\n",
        "  if x%2==1:\n",
        "    print(\"10이상의 홀수\")"
      ],
      "metadata": {
        "id": "0Rs7Khvk7kHM"
      },
      "execution_count": 6,
      "outputs": []
    },
    {
      "cell_type": "code",
      "source": [
        "x=9\n",
        "if x>0:\n",
        "  if x%2==1:\n",
        "    print(\"10보다 작은 자연수\")"
      ],
      "metadata": {
        "colab": {
          "base_uri": "https://localhost:8080/"
        },
        "id": "7ir62joi_KJd",
        "outputId": "1e822b30-4ada-4a8e-b8f9-28d7bfbd8f47"
      },
      "execution_count": 8,
      "outputs": [
        {
          "output_type": "stream",
          "name": "stdout",
          "text": [
            "10보다 작은 자연수\n"
          ]
        }
      ]
    },
    {
      "cell_type": "code",
      "source": [
        "x=10\n",
        "if x>0:\n",
        "  print(\"양수\")\n",
        "else:\n",
        "  print(\"음수\")"
      ],
      "metadata": {
        "colab": {
          "base_uri": "https://localhost:8080/"
        },
        "id": "VHaBCRef_PAE",
        "outputId": "8bc65faa-cc58-4fbe-b609-52edb1223342"
      },
      "execution_count": 9,
      "outputs": [
        {
          "output_type": "stream",
          "name": "stdout",
          "text": [
            "양수\n"
          ]
        }
      ]
    },
    {
      "cell_type": "code",
      "source": [
        "x=93\n",
        "if x>=90:\n",
        "  print(\"A\")\n",
        "elif x>=80:\n",
        "  print(\"B\")\n",
        "elif x>=70:\n",
        "  print(\"C\")\n",
        "elif x>=60:\n",
        "  print(\"D\")\n",
        "else:\n",
        "  print(\"F\")"
      ],
      "metadata": {
        "colab": {
          "base_uri": "https://localhost:8080/"
        },
        "id": "Dy_TKr_LCTWN",
        "outputId": "59cbac4c-6831-46bd-c228-1effaff24e90"
      },
      "execution_count": 10,
      "outputs": [
        {
          "output_type": "stream",
          "name": "stdout",
          "text": [
            "A\n"
          ]
        }
      ]
    }
  ]
}