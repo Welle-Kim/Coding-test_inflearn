{
  "nbformat": 4,
  "nbformat_minor": 0,
  "metadata": {
    "colab": {
      "provenance": []
    },
    "kernelspec": {
      "name": "python3",
      "display_name": "Python 3"
    },
    "language_info": {
      "name": "python"
    }
  },
  "cells": [
    {
      "cell_type": "code",
      "execution_count": null,
      "metadata": {
        "colab": {
          "base_uri": "https://localhost:8080/"
        },
        "id": "NFfAyRoBtaQb",
        "outputId": "ca7c628d-e34a-4859-cf2d-c68a817d9989"
      },
      "outputs": [
        {
          "output_type": "stream",
          "name": "stdout",
          "text": [
            "1 2 3\n"
          ]
        }
      ],
      "source": [
        "#print(\"number\")\n",
        "a,b,c,=1,2,3\n",
        "#print(a,b,c)\n",
        "\n",
        "#print(\"number:\",a,b,c)\n",
        "#print(a,b,c, sep = ', ')\n",
        "#print(a,b,c, sep = '')\n",
        "\n",
        "#print(a,b,c, sep=\"\\n\")\n",
        "#print(a,b,c, sep=\"\\n\")\n",
        "\n",
        "\n",
        "print(a, end=\" \")\n",
        "print(b, end=\" \")\n",
        "print(c)"
      ]
    }
  ]
}