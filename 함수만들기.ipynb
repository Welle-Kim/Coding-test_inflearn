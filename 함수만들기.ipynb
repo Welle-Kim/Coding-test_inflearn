{
  "nbformat": 4,
  "nbformat_minor": 0,
  "metadata": {
    "colab": {
      "provenance": [],
      "authorship_tag": "ABX9TyM9boxiffeYaYC8buz+fa8H",
      "include_colab_link": true
    },
    "kernelspec": {
      "name": "python3",
      "display_name": "Python 3"
    },
    "language_info": {
      "name": "python"
    }
  },
  "cells": [
    {
      "cell_type": "markdown",
      "metadata": {
        "id": "view-in-github",
        "colab_type": "text"
      },
      "source": [
        "<a href=\"https://colab.research.google.com/github/Welle-Kim/Coding-test_inflearn/blob/master/%ED%95%A8%EC%88%98%EB%A7%8C%EB%93%A4%EA%B8%B0.ipynb\" target=\"_parent\"><img src=\"https://colab.research.google.com/assets/colab-badge.svg\" alt=\"Open In Colab\"/></a>"
      ]
    },
    {
      "cell_type": "code",
      "execution_count": 1,
      "metadata": {
        "id": "O_sKvWOW6VXU"
      },
      "outputs": [],
      "source": [
        "def add(a,b):\n",
        "  c=a+b\n",
        "  print(c)"
      ]
    },
    {
      "cell_type": "code",
      "source": [
        "add(3,2)\n",
        "add(5,7)"
      ],
      "metadata": {
        "colab": {
          "base_uri": "https://localhost:8080/"
        },
        "id": "-ugPJ3509X59",
        "outputId": "64196006-212b-4c34-d201-10fabdf92eb1"
      },
      "execution_count": 3,
      "outputs": [
        {
          "output_type": "stream",
          "name": "stdout",
          "text": [
            "5\n",
            "12\n"
          ]
        }
      ]
    },
    {
      "cell_type": "code",
      "source": [
        "x=add(3,2)\n",
        "print(x)"
      ],
      "metadata": {
        "colab": {
          "base_uri": "https://localhost:8080/"
        },
        "id": "MEEHNko19d39",
        "outputId": "d3684fda-fbde-42df-f4fc-68dd5dc582c7"
      },
      "execution_count": 4,
      "outputs": [
        {
          "output_type": "stream",
          "name": "stdout",
          "text": [
            "5\n",
            "None\n"
          ]
        }
      ]
    },
    {
      "cell_type": "code",
      "source": [
        "def add(a,b):\n",
        "  c=a+b\n",
        "  d=a-b\n",
        "  return c,d\n",
        "\n",
        "print(add(3,2))"
      ],
      "metadata": {
        "colab": {
          "base_uri": "https://localhost:8080/"
        },
        "id": "BuS3H_ZjAByT",
        "outputId": "bf37d8e1-6b65-4055-b6af-4094abf4a301"
      },
      "execution_count": 5,
      "outputs": [
        {
          "output_type": "stream",
          "name": "stdout",
          "text": [
            "(5, 1)\n"
          ]
        }
      ]
    },
    {
      "cell_type": "code",
      "source": [
        "#소수인지 판정하는\n",
        "def isPrime(x):\n",
        "  for i in range(2,x):\n",
        "    if x%i==0:\n",
        "      return False # 약수있으면 여기서 종료\n",
        "\n",
        "  return True #소수면 위에 포문 안하고 종료"
      ],
      "metadata": {
        "id": "7iGICKkmAZtj"
      },
      "execution_count": 12,
      "outputs": []
    },
    {
      "cell_type": "code",
      "source": [
        "a=[12,13,7,9,19]\n",
        "for y in a:\n",
        "  if isPrime(y):\n",
        "    print(y, end=\" \")"
      ],
      "metadata": {
        "colab": {
          "base_uri": "https://localhost:8080/"
        },
        "id": "NpE32V45H73C",
        "outputId": "76de0faa-d613-4c07-df97-7eda3147f30e"
      },
      "execution_count": 10,
      "outputs": [
        {
          "output_type": "stream",
          "name": "stdout",
          "text": [
            "13 7 19 "
          ]
        }
      ]
    }
  ]
}